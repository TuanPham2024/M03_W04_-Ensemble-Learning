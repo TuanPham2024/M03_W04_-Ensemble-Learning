{
  "nbformat": 4,
  "nbformat_minor": 0,
  "metadata": {
    "colab": {
      "provenance": [],
      "authorship_tag": "ABX9TyOT83JqX3LacWgfF3BLgnfc"
    },
    "kernelspec": {
      "name": "python3",
      "display_name": "Python 3"
    },
    "language_info": {
      "name": "python"
    }
  },
  "cells": [
    {
      "cell_type": "markdown",
      "source": [
        "# ***A. Cài đặt và Huấn luyện Decision Tree và Random Forest***"
      ],
      "metadata": {
        "id": "-O5HyVGRQ5vf"
      }
    },
    {
      "cell_type": "markdown",
      "source": [
        "# **1. Import thư viện cần thiết:**"
      ],
      "metadata": {
        "id": "ZJHlT2KnQ921"
      }
    },
    {
      "cell_type": "code",
      "execution_count": 1,
      "metadata": {
        "id": "oBcFz34YO6H6"
      },
      "outputs": [],
      "source": [
        "import numpy as np\n",
        "import pandas as pd\n",
        "import matplotlib.pyplot as plt\n",
        "\n",
        "from sklearn.tree import DecisionTreeRegressor\n",
        "from sklearn.ensemble import RandomForestRegressor\n",
        "from sklearn.preprocessing import OrdinalEncoder, StandardScaler\n",
        "from sklearn.model_selection import train_test_split\n",
        "from sklearn.metrics import mean_absolute_error, mean_squared_error\n"
      ]
    },
    {
      "cell_type": "markdown",
      "source": [
        "**2. Tải và đọc bộ dữ liệu:**"
      ],
      "metadata": {
        "id": "E_0xQQbsRCsN"
      }
    },
    {
      "cell_type": "code",
      "source": [
        "!gdown https://drive.google.com/uc?id=1qeJqFtRdjjHqExbWJcgKy0yJbczTTAE3\n"
      ],
      "metadata": {
        "colab": {
          "base_uri": "https://localhost:8080/"
        },
        "id": "n2zbZ16wRDx-",
        "outputId": "150ad264-c752-4454-8c6e-c3fe2b7336d9"
      },
      "execution_count": 4,
      "outputs": [
        {
          "output_type": "stream",
          "name": "stdout",
          "text": [
            "Downloading...\n",
            "From: https://drive.google.com/uc?id=1qeJqFtRdjjHqExbWJcgKy0yJbczTTAE3\n",
            "To: /content/Housing.csv\n",
            "\r  0% 0.00/30.0k [00:00<?, ?B/s]\r100% 30.0k/30.0k [00:00<00:00, 63.6MB/s]\n"
          ]
        }
      ]
    },
    {
      "cell_type": "code",
      "source": [
        "# Đường dẫn đến file dữ liệu\n",
        "dataset_path = './Housing.csv'\n",
        "\n",
        "# Đọc dữ liệu với pandas\n",
        "df = pd.read_csv(dataset_path)\n",
        "\n",
        "# Hiển thị vài mẫu dữ liệu để kiểm tra\n",
        "print(df.head())\n"
      ],
      "metadata": {
        "colab": {
          "base_uri": "https://localhost:8080/"
        },
        "id": "LqtymCBgRvPM",
        "outputId": "5ed6cf35-eb3a-4c3f-bbc0-438f0acf3353"
      },
      "execution_count": 21,
      "outputs": [
        {
          "output_type": "stream",
          "name": "stdout",
          "text": [
            "      price  area  bedrooms  bathrooms  stories mainroad guestroom basement  \\\n",
            "0  13300000  7420         4          2        3      yes        no       no   \n",
            "1  12250000  8960         4          4        4      yes        no       no   \n",
            "2  12250000  9960         3          2        2      yes        no      yes   \n",
            "3  12215000  7500         4          2        2      yes        no      yes   \n",
            "4  11410000  7420         4          1        2      yes       yes      yes   \n",
            "\n",
            "  hotwaterheating airconditioning  parking prefarea furnishingstatus  \n",
            "0              no             yes        2      yes        furnished  \n",
            "1              no             yes        3       no        furnished  \n",
            "2              no              no        2      yes   semi-furnished  \n",
            "3              no             yes        3      yes        furnished  \n",
            "4              no             yes        2       no        furnished  \n"
          ]
        }
      ]
    },
    {
      "cell_type": "markdown",
      "source": [
        "**3. Xử lý dữ liệu categorical:**"
      ],
      "metadata": {
        "id": "x2WvJ1dyR0pB"
      }
    },
    {
      "cell_type": "code",
      "source": [
        "# Tìm các cột có kiểu dữ liệu là Object\n",
        "categorical_cols = df.select_dtypes(include=['object']).columns.to_list()\n",
        "print(categorical_cols)\n",
        "\n",
        "# Sử dụng OrdinalEncoder để chuyển đổi cột dạng chuỗi thành số [from sklearn.preprocessing import OrdinalEncoder]\n",
        "ordinal_encoder = OrdinalEncoder()\n",
        "encoded_categorical_cols = ordinal_encoder.fit_transform(df[categorical_cols])\n",
        "\n",
        "# Tạo DataFrame mới cho các cột đã được mã hóa\n",
        "encoded_categorical_df = pd.DataFrame(encoded_categorical_cols, columns=categorical_cols)\n",
        "\n",
        "# Xóa các cột dạng chuỗi ban đầu và gộp lại DataFrame mới\n",
        "numerical_df = df.drop(categorical_cols, axis=1)\n",
        "encoded_df = pd.concat([numerical_df, encoded_categorical_df], axis=1)\n",
        "\n",
        "# Hiển thị vài mẫu dữ liệu sau khi mã hóa\n",
        "print(encoded_df.head())"
      ],
      "metadata": {
        "colab": {
          "base_uri": "https://localhost:8080/"
        },
        "id": "lV3xoinkR1my",
        "outputId": "26a3503c-87ea-4f1c-fe01-8b22079e1ee2"
      },
      "execution_count": 7,
      "outputs": [
        {
          "output_type": "stream",
          "name": "stdout",
          "text": [
            "['mainroad', 'guestroom', 'basement', 'hotwaterheating', 'airconditioning', 'prefarea', 'furnishingstatus']\n",
            "      price  area  bedrooms  bathrooms  stories  parking  mainroad  guestroom  \\\n",
            "0  13300000  7420         4          2        3        2       1.0        0.0   \n",
            "1  12250000  8960         4          4        4        3       1.0        0.0   \n",
            "2  12250000  9960         3          2        2        2       1.0        0.0   \n",
            "3  12215000  7500         4          2        2        3       1.0        0.0   \n",
            "4  11410000  7420         4          1        2        2       1.0        1.0   \n",
            "\n",
            "   basement  hotwaterheating  airconditioning  prefarea  furnishingstatus  \n",
            "0       0.0              0.0              1.0       1.0               0.0  \n",
            "1       0.0              0.0              1.0       0.0               0.0  \n",
            "2       1.0              0.0              0.0       1.0               1.0  \n",
            "3       1.0              0.0              1.0       1.0               0.0  \n",
            "4       1.0              0.0              1.0       0.0               0.0  \n"
          ]
        }
      ]
    },
    {
      "cell_type": "markdown",
      "source": [
        "**4. Chuẩn hóa dữ liệu:**"
      ],
      "metadata": {
        "id": "oFEk4UxWSvyD"
      }
    },
    {
      "cell_type": "code",
      "source": [
        "# from sklearn.preprocessing import OrdinalEncoder, StandardScaler\n",
        "normalizer = StandardScaler()\n",
        "dataset_arr = normalizer.fit_transform(encoded_df)\n",
        "\n",
        "# Hiển thị bộ dữ liệu sau khi chuẩn hóa\n",
        "print(dataset_arr[:5])"
      ],
      "metadata": {
        "colab": {
          "base_uri": "https://localhost:8080/"
        },
        "id": "8esIBv-MSyCN",
        "outputId": "57512798-3031-4924-ac88-e585b1502faf"
      },
      "execution_count": 22,
      "outputs": [
        {
          "output_type": "stream",
          "name": "stdout",
          "text": [
            "[[ 4.56636513  1.04672629  1.40341936  1.42181174  1.37821692  1.51769249\n",
            "   0.40562287 -0.46531479 -0.73453933 -0.2192645   1.4726183   1.80494113\n",
            "  -1.40628573]\n",
            " [ 4.00448405  1.75700953  1.40341936  5.40580863  2.53202371  2.67940935\n",
            "   0.40562287 -0.46531479 -0.73453933 -0.2192645   1.4726183  -0.55403469\n",
            "  -1.40628573]\n",
            " [ 4.00448405  2.21823241  0.04727831  1.42181174  0.22441013  1.51769249\n",
            "   0.40562287 -0.46531479  1.3613975  -0.2192645  -0.67906259  1.80494113\n",
            "  -0.09166185]\n",
            " [ 3.98575468  1.08362412  1.40341936  1.42181174  0.22441013  2.67940935\n",
            "   0.40562287 -0.46531479  1.3613975  -0.2192645   1.4726183   1.80494113\n",
            "  -1.40628573]\n",
            " [ 3.55497918  1.04672629  1.40341936 -0.57018671  0.22441013  1.51769249\n",
            "   0.40562287  2.14908276  1.3613975  -0.2192645   1.4726183  -0.55403469\n",
            "  -1.40628573]]\n"
          ]
        }
      ]
    },
    {
      "cell_type": "markdown",
      "source": [
        "**5. Tách dữ liệu X và y:**\n",
        "\n",
        "**6. Chia tập dữ liệu train và validation:**"
      ],
      "metadata": {
        "id": "1lsBJEfhS5pz"
      }
    },
    {
      "cell_type": "code",
      "source": [
        "X, y = dataset_arr[:, 1:], dataset_arr[:, 0] # Tách dữ liệu X và y:\n",
        "\n",
        "# Chia bộ dữ liệu thành hai tập: training (70%) và validation (30%).\n",
        "test_size = 0.3\n",
        "random_state = 1\n",
        "is_shuffle = True\n",
        "\n",
        "X_train, X_val, y_train, y_val = train_test_split(\n",
        "    X, y,\n",
        "    test_size=test_size,\n",
        "    random_state=random_state,\n",
        "    shuffle=is_shuffle\n",
        ")"
      ],
      "metadata": {
        "id": "Xt5mSM2NS_5L"
      },
      "execution_count": 23,
      "outputs": []
    },
    {
      "cell_type": "markdown",
      "source": [
        "**7. Huấn luyện mô hình Random Forest:**"
      ],
      "metadata": {
        "id": "niMy1jyVTVjT"
      }
    },
    {
      "cell_type": "code",
      "source": [
        "regressor_rf = RandomForestRegressor(random_state=random_state)\n",
        "regressor_rf.fit(X_train, y_train)"
      ],
      "metadata": {
        "colab": {
          "base_uri": "https://localhost:8080/"
        },
        "id": "QY5dEiRnS8A7",
        "outputId": "2ce742aa-1838-49e7-8418-1d83bcedd3bb"
      },
      "execution_count": 24,
      "outputs": [
        {
          "output_type": "execute_result",
          "data": {
            "text/plain": [
              "RandomForestRegressor(random_state=1)"
            ],
            "text/html": [
              "<style>#sk-container-id-3 {color: black;}#sk-container-id-3 pre{padding: 0;}#sk-container-id-3 div.sk-toggleable {background-color: white;}#sk-container-id-3 label.sk-toggleable__label {cursor: pointer;display: block;width: 100%;margin-bottom: 0;padding: 0.3em;box-sizing: border-box;text-align: center;}#sk-container-id-3 label.sk-toggleable__label-arrow:before {content: \"▸\";float: left;margin-right: 0.25em;color: #696969;}#sk-container-id-3 label.sk-toggleable__label-arrow:hover:before {color: black;}#sk-container-id-3 div.sk-estimator:hover label.sk-toggleable__label-arrow:before {color: black;}#sk-container-id-3 div.sk-toggleable__content {max-height: 0;max-width: 0;overflow: hidden;text-align: left;background-color: #f0f8ff;}#sk-container-id-3 div.sk-toggleable__content pre {margin: 0.2em;color: black;border-radius: 0.25em;background-color: #f0f8ff;}#sk-container-id-3 input.sk-toggleable__control:checked~div.sk-toggleable__content {max-height: 200px;max-width: 100%;overflow: auto;}#sk-container-id-3 input.sk-toggleable__control:checked~label.sk-toggleable__label-arrow:before {content: \"▾\";}#sk-container-id-3 div.sk-estimator input.sk-toggleable__control:checked~label.sk-toggleable__label {background-color: #d4ebff;}#sk-container-id-3 div.sk-label input.sk-toggleable__control:checked~label.sk-toggleable__label {background-color: #d4ebff;}#sk-container-id-3 input.sk-hidden--visually {border: 0;clip: rect(1px 1px 1px 1px);clip: rect(1px, 1px, 1px, 1px);height: 1px;margin: -1px;overflow: hidden;padding: 0;position: absolute;width: 1px;}#sk-container-id-3 div.sk-estimator {font-family: monospace;background-color: #f0f8ff;border: 1px dotted black;border-radius: 0.25em;box-sizing: border-box;margin-bottom: 0.5em;}#sk-container-id-3 div.sk-estimator:hover {background-color: #d4ebff;}#sk-container-id-3 div.sk-parallel-item::after {content: \"\";width: 100%;border-bottom: 1px solid gray;flex-grow: 1;}#sk-container-id-3 div.sk-label:hover label.sk-toggleable__label {background-color: #d4ebff;}#sk-container-id-3 div.sk-serial::before {content: \"\";position: absolute;border-left: 1px solid gray;box-sizing: border-box;top: 0;bottom: 0;left: 50%;z-index: 0;}#sk-container-id-3 div.sk-serial {display: flex;flex-direction: column;align-items: center;background-color: white;padding-right: 0.2em;padding-left: 0.2em;position: relative;}#sk-container-id-3 div.sk-item {position: relative;z-index: 1;}#sk-container-id-3 div.sk-parallel {display: flex;align-items: stretch;justify-content: center;background-color: white;position: relative;}#sk-container-id-3 div.sk-item::before, #sk-container-id-3 div.sk-parallel-item::before {content: \"\";position: absolute;border-left: 1px solid gray;box-sizing: border-box;top: 0;bottom: 0;left: 50%;z-index: -1;}#sk-container-id-3 div.sk-parallel-item {display: flex;flex-direction: column;z-index: 1;position: relative;background-color: white;}#sk-container-id-3 div.sk-parallel-item:first-child::after {align-self: flex-end;width: 50%;}#sk-container-id-3 div.sk-parallel-item:last-child::after {align-self: flex-start;width: 50%;}#sk-container-id-3 div.sk-parallel-item:only-child::after {width: 0;}#sk-container-id-3 div.sk-dashed-wrapped {border: 1px dashed gray;margin: 0 0.4em 0.5em 0.4em;box-sizing: border-box;padding-bottom: 0.4em;background-color: white;}#sk-container-id-3 div.sk-label label {font-family: monospace;font-weight: bold;display: inline-block;line-height: 1.2em;}#sk-container-id-3 div.sk-label-container {text-align: center;}#sk-container-id-3 div.sk-container {/* jupyter's `normalize.less` sets `[hidden] { display: none; }` but bootstrap.min.css set `[hidden] { display: none !important; }` so we also need the `!important` here to be able to override the default hidden behavior on the sphinx rendered scikit-learn.org. See: https://github.com/scikit-learn/scikit-learn/issues/21755 */display: inline-block !important;position: relative;}#sk-container-id-3 div.sk-text-repr-fallback {display: none;}</style><div id=\"sk-container-id-3\" class=\"sk-top-container\"><div class=\"sk-text-repr-fallback\"><pre>RandomForestRegressor(random_state=1)</pre><b>In a Jupyter environment, please rerun this cell to show the HTML representation or trust the notebook. <br />On GitHub, the HTML representation is unable to render, please try loading this page with nbviewer.org.</b></div><div class=\"sk-container\" hidden><div class=\"sk-item\"><div class=\"sk-estimator sk-toggleable\"><input class=\"sk-toggleable__control sk-hidden--visually\" id=\"sk-estimator-id-3\" type=\"checkbox\" checked><label for=\"sk-estimator-id-3\" class=\"sk-toggleable__label sk-toggleable__label-arrow\">RandomForestRegressor</label><div class=\"sk-toggleable__content\"><pre>RandomForestRegressor(random_state=1)</pre></div></div></div></div></div>"
            ]
          },
          "metadata": {},
          "execution_count": 24
        }
      ]
    },
    {
      "cell_type": "markdown",
      "source": [
        "**8. Huấn luyện mô hình Decision Tree (nếu cần):**"
      ],
      "metadata": {
        "id": "R5w0Nts-TfA8"
      }
    },
    {
      "cell_type": "code",
      "source": [
        "regressor_dt = DecisionTreeRegressor(random_state=random_state)\n",
        "regressor_dt.fit(X_train, y_train)\n"
      ],
      "metadata": {
        "colab": {
          "base_uri": "https://localhost:8080/"
        },
        "id": "5blqjBV6TfuE",
        "outputId": "8942d429-5dd2-409e-ea1a-18090a9da504"
      },
      "execution_count": 25,
      "outputs": [
        {
          "output_type": "execute_result",
          "data": {
            "text/plain": [
              "DecisionTreeRegressor(random_state=1)"
            ],
            "text/html": [
              "<style>#sk-container-id-4 {color: black;}#sk-container-id-4 pre{padding: 0;}#sk-container-id-4 div.sk-toggleable {background-color: white;}#sk-container-id-4 label.sk-toggleable__label {cursor: pointer;display: block;width: 100%;margin-bottom: 0;padding: 0.3em;box-sizing: border-box;text-align: center;}#sk-container-id-4 label.sk-toggleable__label-arrow:before {content: \"▸\";float: left;margin-right: 0.25em;color: #696969;}#sk-container-id-4 label.sk-toggleable__label-arrow:hover:before {color: black;}#sk-container-id-4 div.sk-estimator:hover label.sk-toggleable__label-arrow:before {color: black;}#sk-container-id-4 div.sk-toggleable__content {max-height: 0;max-width: 0;overflow: hidden;text-align: left;background-color: #f0f8ff;}#sk-container-id-4 div.sk-toggleable__content pre {margin: 0.2em;color: black;border-radius: 0.25em;background-color: #f0f8ff;}#sk-container-id-4 input.sk-toggleable__control:checked~div.sk-toggleable__content {max-height: 200px;max-width: 100%;overflow: auto;}#sk-container-id-4 input.sk-toggleable__control:checked~label.sk-toggleable__label-arrow:before {content: \"▾\";}#sk-container-id-4 div.sk-estimator input.sk-toggleable__control:checked~label.sk-toggleable__label {background-color: #d4ebff;}#sk-container-id-4 div.sk-label input.sk-toggleable__control:checked~label.sk-toggleable__label {background-color: #d4ebff;}#sk-container-id-4 input.sk-hidden--visually {border: 0;clip: rect(1px 1px 1px 1px);clip: rect(1px, 1px, 1px, 1px);height: 1px;margin: -1px;overflow: hidden;padding: 0;position: absolute;width: 1px;}#sk-container-id-4 div.sk-estimator {font-family: monospace;background-color: #f0f8ff;border: 1px dotted black;border-radius: 0.25em;box-sizing: border-box;margin-bottom: 0.5em;}#sk-container-id-4 div.sk-estimator:hover {background-color: #d4ebff;}#sk-container-id-4 div.sk-parallel-item::after {content: \"\";width: 100%;border-bottom: 1px solid gray;flex-grow: 1;}#sk-container-id-4 div.sk-label:hover label.sk-toggleable__label {background-color: #d4ebff;}#sk-container-id-4 div.sk-serial::before {content: \"\";position: absolute;border-left: 1px solid gray;box-sizing: border-box;top: 0;bottom: 0;left: 50%;z-index: 0;}#sk-container-id-4 div.sk-serial {display: flex;flex-direction: column;align-items: center;background-color: white;padding-right: 0.2em;padding-left: 0.2em;position: relative;}#sk-container-id-4 div.sk-item {position: relative;z-index: 1;}#sk-container-id-4 div.sk-parallel {display: flex;align-items: stretch;justify-content: center;background-color: white;position: relative;}#sk-container-id-4 div.sk-item::before, #sk-container-id-4 div.sk-parallel-item::before {content: \"\";position: absolute;border-left: 1px solid gray;box-sizing: border-box;top: 0;bottom: 0;left: 50%;z-index: -1;}#sk-container-id-4 div.sk-parallel-item {display: flex;flex-direction: column;z-index: 1;position: relative;background-color: white;}#sk-container-id-4 div.sk-parallel-item:first-child::after {align-self: flex-end;width: 50%;}#sk-container-id-4 div.sk-parallel-item:last-child::after {align-self: flex-start;width: 50%;}#sk-container-id-4 div.sk-parallel-item:only-child::after {width: 0;}#sk-container-id-4 div.sk-dashed-wrapped {border: 1px dashed gray;margin: 0 0.4em 0.5em 0.4em;box-sizing: border-box;padding-bottom: 0.4em;background-color: white;}#sk-container-id-4 div.sk-label label {font-family: monospace;font-weight: bold;display: inline-block;line-height: 1.2em;}#sk-container-id-4 div.sk-label-container {text-align: center;}#sk-container-id-4 div.sk-container {/* jupyter's `normalize.less` sets `[hidden] { display: none; }` but bootstrap.min.css set `[hidden] { display: none !important; }` so we also need the `!important` here to be able to override the default hidden behavior on the sphinx rendered scikit-learn.org. See: https://github.com/scikit-learn/scikit-learn/issues/21755 */display: inline-block !important;position: relative;}#sk-container-id-4 div.sk-text-repr-fallback {display: none;}</style><div id=\"sk-container-id-4\" class=\"sk-top-container\"><div class=\"sk-text-repr-fallback\"><pre>DecisionTreeRegressor(random_state=1)</pre><b>In a Jupyter environment, please rerun this cell to show the HTML representation or trust the notebook. <br />On GitHub, the HTML representation is unable to render, please try loading this page with nbviewer.org.</b></div><div class=\"sk-container\" hidden><div class=\"sk-item\"><div class=\"sk-estimator sk-toggleable\"><input class=\"sk-toggleable__control sk-hidden--visually\" id=\"sk-estimator-id-4\" type=\"checkbox\" checked><label for=\"sk-estimator-id-4\" class=\"sk-toggleable__label sk-toggleable__label-arrow\">DecisionTreeRegressor</label><div class=\"sk-toggleable__content\"><pre>DecisionTreeRegressor(random_state=1)</pre></div></div></div></div></div>"
            ]
          },
          "metadata": {},
          "execution_count": 25
        }
      ]
    },
    {
      "cell_type": "markdown",
      "source": [
        "**9. Đánh giá mô hình:**"
      ],
      "metadata": {
        "id": "0tLhrp0JTpB0"
      }
    },
    {
      "cell_type": "code",
      "source": [
        "# Dự đoán trên tập validation\n",
        "y_pred_rf = regressor_rf.predict(X_val)\n",
        "y_pred_dt = regressor_dt.predict(X_val)\n",
        "\n",
        "# Tính toán MAE và MSE cho Random Forest\n",
        "mae_rf = mean_absolute_error(y_val, y_pred_rf)\n",
        "mse_rf = mean_squared_error(y_val, y_pred_rf)\n",
        "\n",
        "# Tính toán MAE và MSE cho Decision Tree\n",
        "mae_dt = mean_absolute_error(y_val, y_pred_dt)\n",
        "mse_dt = mean_squared_error(y_val, y_pred_dt)\n",
        "\n",
        "# In kết quả đánh giá\n",
        "print('Random Forest Evaluation:')\n",
        "print(f'Mean Absolute Error: {mae_rf}')\n",
        "print(f'Mean Squared Error: {mse_rf}')\n",
        "\n",
        "print('Decision Tree Evaluation:')\n",
        "print(f'Mean Absolute Error: {mae_dt}')\n",
        "print(f'Mean Squared Error: {mse_dt}')"
      ],
      "metadata": {
        "colab": {
          "base_uri": "https://localhost:8080/"
        },
        "id": "PP7ypLCBTq87",
        "outputId": "5ae66190-ff83-4ed3-c51c-4e08d35cb8cf"
      },
      "execution_count": 12,
      "outputs": [
        {
          "output_type": "stream",
          "name": "stdout",
          "text": [
            "Random Forest Evaluation:\n",
            "Mean Absolute Error: 0.46093873321571177\n",
            "Mean Squared Error: 0.37944418523089524\n",
            "Decision Tree Evaluation:\n",
            "Mean Absolute Error: 0.594233095728814\n",
            "Mean Squared Error: 0.7245255619360014\n"
          ]
        }
      ]
    },
    {
      "cell_type": "markdown",
      "source": [
        "# Q6. **Mean Squared Error (MSE) for different splits in the data**"
      ],
      "metadata": {
        "id": "05wc79mRXARQ"
      }
    },
    {
      "cell_type": "markdown",
      "source": [
        "** SSE (Sum of Squared Errors) = sum of the squared differences between the actual and predicted values**\n",
        "\n",
        "SSE(D) = SSE(D_1) + SSE(D_2)\n",
        "\n",
        "SSE(D_i) = \\frac{1}{n_i}\\sum_{j=1}^{n_i}(x_j-\\bar{x}_i)^2\n",
        "\n",
        "https://datamapu.com/posts/classical_ml/decision_tree_regression_example/"
      ],
      "metadata": {
        "id": "eRz6pUijcYty"
      }
    },
    {
      "cell_type": "code",
      "source": [
        "# Function to calculate SSE for a given split point\n",
        "def calculate_sse_for_split(df, split_point):\n",
        "    # Splitting the data into left and right partitions\n",
        "    left_partition  = df[df['X'] <= split_point]\n",
        "    right_partition = df[df['X'] > split_point]\n",
        "\n",
        "    # If either partition is empty, return None to indicate an invalid split\n",
        "    if len(left_partition) == 0 or len(right_partition) == 0:\n",
        "        return None\n",
        "\n",
        "    # Calculate the mean of Y for each partition\n",
        "    left_mean  = left_partition['Y'].mean()\n",
        "    right_mean = right_partition['Y'].mean()\n",
        "\n",
        "    # Calculate the SSE for each partition\n",
        "    left_sse = sum((left_partition['Y'] - left_mean) ** 2)/ len(left_partition)\n",
        "    right_sse = sum((right_partition['Y'] - right_mean) ** 2) / len(right_partition)\n",
        "\n",
        "    # Total SSE as the sum of both partitions' SSEs\n",
        "    total_sse = left_sse + right_sse\n",
        "    return total_sse\n",
        "\n",
        "import pandas as pd\n",
        "import matplotlib.pyplot as plt\n",
        "\n",
        "# Data from the image\n",
        "data = {\n",
        "    'X': [3, 5, 8, 10, 12],\n",
        "    'Y': [12, 20, 28, 32, 36]\n",
        "}\n",
        "df = pd.DataFrame(data)\n",
        "\n",
        "# Static calculations for four different split points\n",
        "split_points = [3, 5, 8, 10]\n",
        "sse_results = {split: calculate_sse_for_split(df, split) for split in split_points}\n",
        "\n",
        "# Display the SSE results\n",
        "sse_results\n",
        "\n",
        "\n",
        "# # Static calculations for four different split points\n",
        "# split_points = [3, 5, 8, 10]\n",
        "# mse_results = {split: calculate_mse_for_split(df, split) for split in split_points}\n",
        "\n",
        "# # Display the results\n",
        "# mse_results\n"
      ],
      "metadata": {
        "colab": {
          "base_uri": "https://localhost:8080/"
        },
        "id": "CrswxFlQXA7C",
        "outputId": "6d8d2d14-47e3-4b19-ac00-9b3d5385a843"
      },
      "execution_count": 17,
      "outputs": [
        {
          "output_type": "execute_result",
          "data": {
            "text/plain": [
              "{3: 35.0, 5: 26.666666666666664, 8: 46.666666666666664, 10: 59.0}"
            ]
          },
          "metadata": {},
          "execution_count": 17
        }
      ]
    },
    {
      "cell_type": "markdown",
      "source": [
        "# **Total MSE as the weighted sum of both partitions' MSE**"
      ],
      "metadata": {
        "id": "dBfUHbYDcKC1"
      }
    },
    {
      "cell_type": "markdown",
      "source": [
        "** SSE (Sum of Squared Errors) = sum of the squared differences between the actual and predicted values**\n",
        "\n",
        "SSE(D) = \\frac{n_D_1}{n}SSE(D_1) + \\frac{n_D_2}{n}SSE(D_2)\n",
        "\n",
        "SSE(D_i) = \\frac{1}{n_i}\\sum_{j=1}^{n_i}(x_j-\\bar{x}_i)^2"
      ],
      "metadata": {
        "id": "1Qsh7QJ3heoJ"
      }
    },
    {
      "cell_type": "code",
      "source": [
        "import pandas as pd\n",
        "import matplotlib.pyplot as plt\n",
        "\n",
        "# Data from the image\n",
        "data = {\n",
        "    'X': [3, 5, 8, 10, 12],\n",
        "    'Y': [12, 20, 28, 32, 36]\n",
        "}\n",
        "df = pd.DataFrame(data)\n",
        "\n",
        "# Function to calculate MSE for a given split point\n",
        "def calculate_mse_for_split(df, split_point):\n",
        "    # Splitting the data into left and right partitions\n",
        "    left_partition  = df[df['X'] <= split_point]\n",
        "    right_partition = df[df['X'] > split_point]\n",
        "\n",
        "    # If either partition is empty, return a large MSE to indicate an invalid split\n",
        "    if len(left_partition) == 0 or len(right_partition) == 0:\n",
        "        return float('inf')\n",
        "\n",
        "    # Calculate the mean of Y for each partition\n",
        "    left_mean = left_partition['Y'].mean()\n",
        "    right_mean = right_partition['Y'].mean()\n",
        "\n",
        "    # Calculate the MSE for each partition\n",
        "    left_mse = sum((left_partition['Y'] - left_mean) ** 2) / len(left_partition)\n",
        "    right_mse = sum((right_partition['Y'] - right_mean) ** 2) / len(right_partition)\n",
        "\n",
        "    # Total MSE as the weighted sum of both partitions' MSE\n",
        "    total_mse = (len(left_partition) * left_mse + len(right_partition) * right_mse) / len(df)\n",
        "    return total_mse\n",
        "\n",
        "# Static calculations for four different split points\n",
        "split_points = [3, 5, 8, 10]\n",
        "mse_results = {split: calculate_mse_for_split(df, split) for split in split_points}\n",
        "\n",
        "# Display the results\n",
        "mse_results\n"
      ],
      "metadata": {
        "colab": {
          "base_uri": "https://localhost:8080/"
        },
        "id": "cYesKFNRcI8R",
        "outputId": "4aa515d9-372c-40e3-ed8d-ba5a4222124a"
      },
      "execution_count": 19,
      "outputs": [
        {
          "output_type": "execute_result",
          "data": {
            "text/plain": [
              "{3: 28.0, 5: 12.8, 8: 27.2, 10: 47.2}"
            ]
          },
          "metadata": {},
          "execution_count": 19
        }
      ]
    },
    {
      "cell_type": "markdown",
      "source": [
        "# Q7"
      ],
      "metadata": {
        "id": "rDDLhxtti_nZ"
      }
    },
    {
      "cell_type": "code",
      "source": [
        "from sklearn.ensemble import RandomForestRegressor\n",
        "from sklearn.metrics import mean_squared_error\n",
        "from sklearn.model_selection import train_test_split\n",
        "\n",
        "# Dữ liệu đã được tạo trước đó\n",
        "data = {\n",
        "    'X': [3, 5, 8, 10, 12],\n",
        "    'Y': [12, 20, 28, 32, 36]\n",
        "}\n",
        "df = pd.DataFrame(data)\n",
        "\n",
        "# Tách X và y\n",
        "X = df[['X']]\n",
        "y = df['Y']\n",
        "\n",
        "# Chia dữ liệu thành tập train và validation\n",
        "X_train, X_val, y_train, y_val = train_test_split(X, y, test_size=0.3, random_state=1)\n",
        "\n",
        "# Huấn luyện mô hình Random Forest\n",
        "regressor_rf = RandomForestRegressor(n_estimators=10, random_state=1)\n",
        "regressor_rf.fit(X_train, y_train)\n",
        "\n",
        "# Dự đoán trên tập validation\n",
        "y_pred = regressor_rf.predict(X_val)\n",
        "\n",
        "# Tính toán MSE\n",
        "mse = mean_squared_error(y_val, y_pred)\n",
        "mse\n"
      ],
      "metadata": {
        "colab": {
          "base_uri": "https://localhost:8080/"
        },
        "id": "ctZk3YuyjAxQ",
        "outputId": "95d05b54-2ac0-4d24-cd6e-79e51cc3bee2"
      },
      "execution_count": 20,
      "outputs": [
        {
          "output_type": "execute_result",
          "data": {
            "text/plain": [
              "22.160000000000014"
            ]
          },
          "metadata": {},
          "execution_count": 20
        }
      ]
    },
    {
      "cell_type": "markdown",
      "source": [
        "*** Random Forest với số cây = 2, max_depth = 1***"
      ],
      "metadata": {
        "id": "gcpWAYmalEDg"
      }
    },
    {
      "cell_type": "code",
      "source": [
        "from sklearn.ensemble import RandomForestRegressor\n",
        "import numpy as np\n",
        "\n",
        "# Dataset\n",
        "data = {\n",
        "    'X': [2, 1, 3, 2],\n",
        "    'Y': [4, 3, 5, 6]\n",
        "}\n",
        "df = pd.DataFrame(data)\n",
        "\n",
        "# Tách X và y\n",
        "X = df[['X']]\n",
        "y = df['Y']\n",
        "\n",
        "# Thiết lập mô hình Random Forest với số cây = 2, max_depth = 1\n",
        "regressor_rf = RandomForestRegressor(n_estimators=2, max_depth=1, bootstrap=True, random_state=1)\n",
        "\n",
        "# Huấn luyện mô hình với toàn bộ dữ liệu\n",
        "regressor_rf.fit(X, y)\n",
        "\n",
        "# Câu 11(a): Dự đoán với X = 2 khi cả hai cây tính toán trên toàn bộ dataset\n",
        "# prediction_a = regressor_rf.predict([[2]])\n",
        "print('Dự đoán với X = 2 là :' ,regressor_rf.predict(pd.DataFrame([[2]], columns=['X'])))\n",
        "\n",
        "# Câu 11(b): Dự đoán với X = 1 dựa trên bộ dữ liệu bootstrap\n",
        "# Cây 1: Gồm các mẫu 0, 1, 2.\n",
        "# Cây 2: Gồm các mẫu 1, 2, 3.\n",
        "regressor_rf_bootstrap = RandomForestRegressor(n_estimators=2, max_depth=1, random_state=1)\n",
        "bootstrap_indices = [[0, 1, 2], [1, 2, 3]]\n",
        "X_bootstrap = np.vstack([X.iloc[indices].values for indices in bootstrap_indices])\n",
        "y_bootstrap = np.hstack([y.iloc[indices].values for indices in bootstrap_indices])\n",
        "\n",
        "# Huấn luyện mô hình với dữ liệu bootstrap\n",
        "regressor_rf_bootstrap.fit(X_bootstrap, y_bootstrap)\n",
        "\n",
        "# Dự đoán với X = 1 cho bộ dữ liệu bootstrap\n",
        "print('Dự đoán với X = 1 là :' , regressor_rf_bootstrap.predict(pd.DataFrame([[1]], columns=['X'])))\n",
        "\n"
      ],
      "metadata": {
        "colab": {
          "base_uri": "https://localhost:8080/"
        },
        "id": "TUcK8e4TlDKq",
        "outputId": "d727c3c7-d04c-475b-d88d-cab146fc7615"
      },
      "execution_count": 29,
      "outputs": [
        {
          "output_type": "stream",
          "name": "stdout",
          "text": [
            "Dự đoán với X = 2 là : [4.5]\n",
            "Dự đoán với X = 1 là : [3.]\n"
          ]
        },
        {
          "output_type": "stream",
          "name": "stderr",
          "text": [
            "/usr/local/lib/python3.10/dist-packages/sklearn/base.py:458: UserWarning: X has feature names, but RandomForestRegressor was fitted without feature names\n",
            "  warnings.warn(\n"
          ]
        }
      ]
    }
  ]
}